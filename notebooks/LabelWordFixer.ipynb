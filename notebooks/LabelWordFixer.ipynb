{
 "cells": [
  {
   "cell_type": "markdown",
   "metadata": {},
   "source": [
    "# Fix Labels"
   ]
  },
  {
   "cell_type": "markdown",
   "metadata": {},
   "source": [
    "## Alphabets are put as words in some of the labels"
   ]
  },
  {
   "cell_type": "code",
   "execution_count": 1,
   "metadata": {},
   "outputs": [],
   "source": [
    "import sys\n",
    "import os\n",
    "from json import load, dump\n",
    "\n",
    "sys.path.append(os.path.abspath(os.path.join('../scripts')))\n",
    "from logger_creator import CreateLogger"
   ]
  },
  {
   "cell_type": "code",
   "execution_count": 2,
   "metadata": {},
   "outputs": [],
   "source": [
    "# Initializing Logger\n",
    "logger = CreateLogger('LabelsFixer', handlers=1)\n",
    "logger = logger.get_default_logger()\n"
   ]
  },
  {
   "cell_type": "code",
   "execution_count": 3,
   "metadata": {},
   "outputs": [],
   "source": [
    "class LabelCleaner():\n",
    "    def __init__(self, train_labels: str = '../data/train_labels.json', test_labels: str = '../data/test_labels.json') -> None:\n",
    "        try:\n",
    "            self.train_labels_path = train_labels\n",
    "            self.test_labels_path = test_labels\n",
    "\n",
    "            logger.info('Successfully Created Label Cleaner Class Object')\n",
    "\n",
    "        except Exception as e:\n",
    "            logger.exception('Failed to create Label Cleaner Class Object')\n",
    "\n",
    "    def load_labels(self):\n",
    "        try:\n",
    "            with open(self.train_labels_path, 'r', encoding='UTF-8') as label_file:\n",
    "                self.train_labels = load(label_file)\n",
    "\n",
    "            with open(self.test_labels_path, 'r', encoding='UTF-8') as label_file:\n",
    "                self.test_labels = load(label_file)\n",
    "\n",
    "            logger.info('Successfully Loaded Train and Test Label Files')\n",
    "                \n",
    "        except Exception as e:\n",
    "            logger.exception('Failed to Load Labels')\n",
    "\n",
    "    def clean_suffixes(self):\n",
    "        self.train_cleaned_labels = self.clean_labels_suffixes(self.train_labels)\n",
    "        self.test_cleaned_labels = self.clean_labels_suffixes(self.test_labels)\n",
    "\n",
    "    def save_labels(self, train_file_name: str = '../data/train_labels.json', test_file_name: str = '../data/test_labels.json') -> None:\n",
    "        try:\n",
    "            with open(train_file_name, \"w\", encoding='UTF-8') as export_file:\n",
    "                dump(self.train_cleaned_labels, export_file, indent=4, sort_keys=True, ensure_ascii=False)\n",
    "\n",
    "            with open(test_file_name, \"w\", encoding='UTF-8') as export_file:\n",
    "                dump(self.test_cleaned_labels, export_file, indent=4, sort_keys=True, ensure_ascii=False)\n",
    "\n",
    "            logger.info(f'Successfully Saved Cleaned Lables in: {train_file_name} and {test_file_name}')\n",
    "\n",
    "        except Exception as e:\n",
    "            logger.exception('Failed to Save Cleaned lables')\n",
    "\n",
    "    def clean_labels_suffixes(self, label_dict:dict):\n",
    "        try:\n",
    "            cleaned_labels = {}\n",
    "            for key, label in label_dict.items():\n",
    "                word_list = label.split()\n",
    "                cleaned_label = []\n",
    "                append_prefix = None\n",
    "                prefix_words = ['እ', 'የ', \"አይ\", \"ሲ\", \"አላ\",'እንዲ', 'ኰ', 'በ', 'ስለ', 'የሚ', 'ያ', 'አ', 'ለ', 'ከ', 'ተጉ',\n",
    "                                'ሳ', 'ጐረ', 'አል', 'እጀ', 'ባ', 'እንዳስ', 'በተ', 'ተና', 'እንደ', 'ሳይ', 'ንግስተ', 'ሊ', 'እንደ',\n",
    "                                'ሊ', 'የተ', 'ጠቁ', 'ተ', 'እያ', 'እን', 'ተሽ', 'አሳ', 'አከራ', 'አስራ', 'ለባለ', 'አለ', 'ከሚያ',\n",
    "                                'ሳይ', 'ካይ', 'እንዳል', 'ካ', 'ሊያ', 'ያመኑ', 'አሰባ', 'እንደሚ', 'እየ']\n",
    "                suffix_words = ['ን', \"ም\", \"ና\", \"ያት\",'ው', 'ነዋል', 'ተው', 'መ', 'መና', 'ች', 'ማት', 'ተር', 'ኝ', 'ቱ',\n",
    "                                'ሎ', 'ት', 'ሁ', 'ጤ', 'ብ', 'ፋው', 'ዬ', 'ጉር', 'ጉ', 'ሯቸው', 'ወድ', 'ስ', 'ዬን', 'ጓጉ',\n",
    "                                'ቻት', 'ጔ', 'ወ', 'ሚ', 'ልሽ', 'ንም', 'ሺ', 'ኲ', 'ቷል', 'ዋል', 'ቸውን', 'ተኛ', 'ስት', 'ዎች',\n",
    "                                'ታል', 'ል', 'ዋጣ', 'ያችን', 'ችን', 'ውን', 'ስቶች', 'በታል', 'ነውን', 'ችል', 'ቸው', 'ባቸዋል', 'ሉት',\n",
    "                                'ሉት', 'ላቸው', 'ተውናል', 'ችሏል', 'ዶች']\n",
    "\n",
    "                for word in word_list:\n",
    "                    if(word in prefix_words):\n",
    "                        if(append_prefix != None):\n",
    "                            append_prefix = append_prefix + word\n",
    "                        else:\n",
    "                            append_prefix = word\n",
    "                        try:\n",
    "                            if(word == word_list[-1]):\n",
    "                                cleaned_label[-1] = cleaned_label[-1] + append_prefix\n",
    "                            continue\n",
    "                        except:\n",
    "                            continue\n",
    "                    elif(word in suffix_words):\n",
    "                        if(append_prefix != None):\n",
    "                            append_prefix  = append_prefix + word\n",
    "                        else:\n",
    "                            try:\n",
    "                                cleaned_label[-1] = cleaned_label[-1] + word\n",
    "                            except:\n",
    "                                append_prefix = word\n",
    "                        continue\n",
    "                    elif(append_prefix != None):\n",
    "                        word = append_prefix + word\n",
    "                        append_prefix = None\n",
    "                    \n",
    "                    cleaned_label.append(word)\n",
    "\n",
    "                cleaned_labels[key] = ' '.join(cleaned_label)\n",
    "            \n",
    "            logger.info('Successfully Cleaned Label Suffixes')\n",
    "                \n",
    "            return cleaned_labels\n",
    "\n",
    "\n",
    "        except Exception as e:\n",
    "            logger.exception('Failed To Clean Labels')\n",
    "\n",
    "    def clean_and_save(self):\n",
    "        self.load_labels()\n",
    "        self.clean_suffixes()\n",
    "        self.save_labels()"
   ]
  },
  {
   "cell_type": "code",
   "execution_count": 4,
   "metadata": {},
   "outputs": [
    {
     "name": "stderr",
     "output_type": "stream",
     "text": [
      "LabelsFixer:INFO->Successfully Created Label Cleaner Class Object\n"
     ]
    }
   ],
   "source": [
    "label_cleaner = LabelCleaner()"
   ]
  },
  {
   "cell_type": "code",
   "execution_count": 5,
   "metadata": {},
   "outputs": [
    {
     "name": "stderr",
     "output_type": "stream",
     "text": [
      "LabelsFixer:INFO->Successfully Loaded Train and Test Label Files\n",
      "LabelsFixer:INFO->Successfully Cleaned Label Suffixes\n",
      "LabelsFixer:INFO->Successfully Cleaned Label Suffixes\n",
      "LabelsFixer:INFO->Successfully Saved Cleaned Lables in: ../data/train_labels.json and ../data/test_labels.json\n"
     ]
    }
   ],
   "source": [
    "label_cleaner.clean_and_save()"
   ]
  },
  {
   "cell_type": "code",
   "execution_count": null,
   "metadata": {},
   "outputs": [],
   "source": []
  }
 ],
 "metadata": {
  "interpreter": {
   "hash": "2db524e06e9f5f4ffedc911c917cb75e12dbc923643829bf417064a77eb14d37"
  },
  "kernelspec": {
   "display_name": "Python 3",
   "language": "python",
   "name": "python3"
  },
  "language_info": {
   "codemirror_mode": {
    "name": "ipython",
    "version": 3
   },
   "file_extension": ".py",
   "mimetype": "text/x-python",
   "name": "python",
   "nbconvert_exporter": "python",
   "pygments_lexer": "ipython3",
   "version": "3.8.8"
  }
 },
 "nbformat": 4,
 "nbformat_minor": 2
}
