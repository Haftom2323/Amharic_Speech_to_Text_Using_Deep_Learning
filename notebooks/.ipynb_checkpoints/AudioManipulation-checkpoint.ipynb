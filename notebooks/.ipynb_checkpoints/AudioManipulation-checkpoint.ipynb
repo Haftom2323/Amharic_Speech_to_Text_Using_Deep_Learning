{
 "cells": [
  {
   "cell_type": "code",
   "execution_count": 28,
   "metadata": {},
   "outputs": [],
   "source": [
    "import os\n",
    "import sys\n",
    "import librosa\n",
    "import seaborn as sn\n",
    "# sys.path.append(os.path.abspath(os.path.join('../')))\n",
    "module_path = os.path.abspath(os.path.join('..'))\n",
    "sys.path.append(module_path+\"\\\\scripts\")\n",
    "from audio_loader import AudioLoader\n",
    "from audio_manuplator import AudioManipulator\n",
    "import visualize as vis\n",
    "from results_pickler import ResultPickler\n",
    "import pandas as pd\n",
    "import matplotlib.pyplot as plt\n",
    "import numpy as np\n",
    "import random\n"
   ]
  },
  {
   "cell_type": "markdown",
   "metadata": {},
   "source": [
    "## Load Audio files"
   ]
  },
  {
   "cell_type": "code",
   "execution_count": 29,
   "metadata": {},
   "outputs": [
    {
     "name": "stderr",
     "output_type": "stream",
     "text": [
      "AudioExplorer:INFO->Successfully Created AudioExplorer Class\n",
      "AudioExplorer:INFO->Successfully Loaded Audio and TTS files\n",
      "AudioPreprocessor:INFO->Successfully Inherited AudioExplorer Class\n",
      "AudioPreprocessor:INFO->Successfully Inherited AudioExplorer Class\n"
     ]
    }
   ],
   "source": [
    "al_train = AudioLoader(directory='../data/train')\n",
    "# al_test = AudioLoader(directory=\"../data/test\",tts_file=r'/trsTest.txt')\n"
   ]
  },
  {
   "cell_type": "code",
   "execution_count": 30,
   "metadata": {},
   "outputs": [
    {
     "data": {
      "text/html": [
       "<div>\n",
       "<style scoped>\n",
       "    .dataframe tbody tr th:only-of-type {\n",
       "        vertical-align: middle;\n",
       "    }\n",
       "\n",
       "    .dataframe tbody tr th {\n",
       "        vertical-align: top;\n",
       "    }\n",
       "\n",
       "    .dataframe thead th {\n",
       "        text-align: right;\n",
       "    }\n",
       "</style>\n",
       "<table border=\"1\" class=\"dataframe\">\n",
       "  <thead>\n",
       "    <tr style=\"text-align: right;\">\n",
       "      <th></th>\n",
       "      <th>Name</th>\n",
       "      <th>Duration</th>\n",
       "      <th>Channels</th>\n",
       "      <th>SamplingRate</th>\n",
       "      <th>TimeSeriesData</th>\n",
       "      <th>HasTTS</th>\n",
       "    </tr>\n",
       "  </thead>\n",
       "  <tbody>\n",
       "    <tr>\n",
       "      <th>0</th>\n",
       "      <td>tr_10000_tr097082</td>\n",
       "      <td>9.088</td>\n",
       "      <td>Mono</td>\n",
       "      <td>16000</td>\n",
       "      <td>[-0.1184082, -0.119018555, -0.119628906, -0.11...</td>\n",
       "      <td>True</td>\n",
       "    </tr>\n",
       "    <tr>\n",
       "      <th>1</th>\n",
       "      <td>tr_10001_tr097083</td>\n",
       "      <td>5.632</td>\n",
       "      <td>Mono</td>\n",
       "      <td>16000</td>\n",
       "      <td>[-0.12023926, -0.12023926, -0.12023926, -0.120...</td>\n",
       "      <td>True</td>\n",
       "    </tr>\n",
       "    <tr>\n",
       "      <th>2</th>\n",
       "      <td>tr_10002_tr097084</td>\n",
       "      <td>6.144</td>\n",
       "      <td>Mono</td>\n",
       "      <td>16000</td>\n",
       "      <td>[-0.13061523, -0.13122559, -0.13183594, -0.131...</td>\n",
       "      <td>True</td>\n",
       "    </tr>\n",
       "    <tr>\n",
       "      <th>3</th>\n",
       "      <td>tr_10003_tr097085</td>\n",
       "      <td>5.760</td>\n",
       "      <td>Mono</td>\n",
       "      <td>16000</td>\n",
       "      <td>[-0.12634277, -0.12695312, -0.12695312, -0.126...</td>\n",
       "      <td>True</td>\n",
       "    </tr>\n",
       "    <tr>\n",
       "      <th>4</th>\n",
       "      <td>tr_10004_tr097086</td>\n",
       "      <td>5.376</td>\n",
       "      <td>Mono</td>\n",
       "      <td>16000</td>\n",
       "      <td>[-0.119628906, -0.119018555, -0.119628906, -0....</td>\n",
       "      <td>True</td>\n",
       "    </tr>\n",
       "    <tr>\n",
       "      <th>...</th>\n",
       "      <td>...</td>\n",
       "      <td>...</td>\n",
       "      <td>...</td>\n",
       "      <td>...</td>\n",
       "      <td>...</td>\n",
       "      <td>...</td>\n",
       "    </tr>\n",
       "    <tr>\n",
       "      <th>995</th>\n",
       "      <td>tr_1108_tr12009</td>\n",
       "      <td>8.704</td>\n",
       "      <td>Mono</td>\n",
       "      <td>16000</td>\n",
       "      <td>[0.005340576, 0.005218506, 0.005126953, 0.0049...</td>\n",
       "      <td>True</td>\n",
       "    </tr>\n",
       "    <tr>\n",
       "      <th>996</th>\n",
       "      <td>tr_1109_tr12010</td>\n",
       "      <td>6.272</td>\n",
       "      <td>Mono</td>\n",
       "      <td>16000</td>\n",
       "      <td>[-0.008911133, -0.00881958, -0.00894165, -0.00...</td>\n",
       "      <td>True</td>\n",
       "    </tr>\n",
       "    <tr>\n",
       "      <th>997</th>\n",
       "      <td>tr_110_tr02010</td>\n",
       "      <td>4.736</td>\n",
       "      <td>Mono</td>\n",
       "      <td>16000</td>\n",
       "      <td>[-0.0072631836, -0.007019043, -0.006652832, -0...</td>\n",
       "      <td>True</td>\n",
       "    </tr>\n",
       "    <tr>\n",
       "      <th>998</th>\n",
       "      <td>tr_1110_tr12011</td>\n",
       "      <td>8.576</td>\n",
       "      <td>Mono</td>\n",
       "      <td>16000</td>\n",
       "      <td>[-0.005432129, -0.005493164, -0.005645752, -0....</td>\n",
       "      <td>True</td>\n",
       "    </tr>\n",
       "    <tr>\n",
       "      <th>999</th>\n",
       "      <td>tr_1111_tr12012</td>\n",
       "      <td>5.632</td>\n",
       "      <td>Mono</td>\n",
       "      <td>16000</td>\n",
       "      <td>[-0.005706787, -0.0057373047, -0.0057678223, -...</td>\n",
       "      <td>True</td>\n",
       "    </tr>\n",
       "  </tbody>\n",
       "</table>\n",
       "<p>1000 rows × 6 columns</p>\n",
       "</div>"
      ],
      "text/plain": [
       "                  Name  Duration Channels  SamplingRate  \\\n",
       "0    tr_10000_tr097082     9.088     Mono         16000   \n",
       "1    tr_10001_tr097083     5.632     Mono         16000   \n",
       "2    tr_10002_tr097084     6.144     Mono         16000   \n",
       "3    tr_10003_tr097085     5.760     Mono         16000   \n",
       "4    tr_10004_tr097086     5.376     Mono         16000   \n",
       "..                 ...       ...      ...           ...   \n",
       "995    tr_1108_tr12009     8.704     Mono         16000   \n",
       "996    tr_1109_tr12010     6.272     Mono         16000   \n",
       "997     tr_110_tr02010     4.736     Mono         16000   \n",
       "998    tr_1110_tr12011     8.576     Mono         16000   \n",
       "999    tr_1111_tr12012     5.632     Mono         16000   \n",
       "\n",
       "                                        TimeSeriesData  HasTTS  \n",
       "0    [-0.1184082, -0.119018555, -0.119628906, -0.11...    True  \n",
       "1    [-0.12023926, -0.12023926, -0.12023926, -0.120...    True  \n",
       "2    [-0.13061523, -0.13122559, -0.13183594, -0.131...    True  \n",
       "3    [-0.12634277, -0.12695312, -0.12695312, -0.126...    True  \n",
       "4    [-0.119628906, -0.119018555, -0.119628906, -0....    True  \n",
       "..                                                 ...     ...  \n",
       "995  [0.005340576, 0.005218506, 0.005126953, 0.0049...    True  \n",
       "996  [-0.008911133, -0.00881958, -0.00894165, -0.00...    True  \n",
       "997  [-0.0072631836, -0.007019043, -0.006652832, -0...    True  \n",
       "998  [-0.005432129, -0.005493164, -0.005645752, -0....    True  \n",
       "999  [-0.005706787, -0.0057373047, -0.0057678223, -...    True  \n",
       "\n",
       "[1000 rows x 6 columns]"
      ]
     },
     "execution_count": 30,
     "metadata": {},
     "output_type": "execute_result"
    }
   ],
   "source": [
    "df_train_audio_data = al_train.get_audio_info_with_data()\n",
    "# df_test_audio_data = al_test.get_audio_info_with_data()\n",
    "# rp = ResultPickler()\n",
    "# rp.load_data(\"../models/LoadedAudioInfo.pkl\")\n",
    "# data_dict = rp.get_data()\n",
    "# # data_dict.keys()\n",
    "# df_train_audio_data = data_dict['TrainAudioInfoWithoutTTS']\n",
    "df_train_audio_data\n"
   ]
  },
  {
   "cell_type": "code",
   "execution_count": 31,
   "metadata": {},
   "outputs": [
    {
     "name": "stderr",
     "output_type": "stream",
     "text": [
      "AudioPreprocessor:ERROR->successfully Initialized AudioPreprocessor class!\n",
      "NoneType: None\n",
      "AudioPreprocessor:ERROR->successfully Initialized AudioPreprocessor class!\n",
      "NoneType: None\n"
     ]
    }
   ],
   "source": [
    "\n",
    "# instantiate audio manuplator class\n",
    "am_train = AudioManipulator(df_train_audio_data)\n"
   ]
  },
  {
   "cell_type": "code",
   "execution_count": 32,
   "metadata": {},
   "outputs": [
    {
     "data": {
      "image/png": "[encoded data removed]",
      "text/plain": [
       "<Figure size 432x288 with 1 Axes>"
      ]
     },
     "metadata": {
      "needs_background": "light"
     },
     "output_type": "display_data"
    }
   ],
   "source": [
    "# Plot Time Series data of \n",
    "vis.plot_series(df_train_audio_data.loc[0,\"TimeSeriesData\"])\n"
   ]
  },
  {
   "cell_type": "markdown",
   "metadata": {},
   "source": [
    "## Preprocessing the audio Data\n",
    "- ### change the duration to the same size\n",
    "- ### convert channels to stereo by duplicating the other channel\n",
    "- ### standardize the sampling rate to the same one\n",
    "- ### Data Augmentation\n",
    "- ### Extract Features\n",
    "\n"
   ]
  },
  {
   "cell_type": "markdown",
   "metadata": {},
   "source": [
    "### Convert Channels to Stereo by duplicating the other channel\n"
   ]
  },
  {
   "cell_type": "code",
   "execution_count": 33,
   "metadata": {},
   "outputs": [
    {
     "data": {
      "text/html": [
       "<div>\n",
       "<style scoped>\n",
       "    .dataframe tbody tr th:only-of-type {\n",
       "        vertical-align: middle;\n",
       "    }\n",
       "\n",
       "    .dataframe tbody tr th {\n",
       "        vertical-align: top;\n",
       "    }\n",
       "\n",
       "    .dataframe thead th {\n",
       "        text-align: right;\n",
       "    }\n",
       "</style>\n",
       "<table border=\"1\" class=\"dataframe\">\n",
       "  <thead>\n",
       "    <tr style=\"text-align: right;\">\n",
       "      <th></th>\n",
       "      <th>Name</th>\n",
       "      <th>Duration</th>\n",
       "      <th>Channels</th>\n",
       "      <th>SamplingRate</th>\n",
       "      <th>TimeSeriesData</th>\n",
       "      <th>HasTTS</th>\n",
       "    </tr>\n",
       "  </thead>\n",
       "  <tbody>\n",
       "    <tr>\n",
       "      <th>0</th>\n",
       "      <td>tr_10000_tr097082</td>\n",
       "      <td>9.088</td>\n",
       "      <td>Stereo</td>\n",
       "      <td>16000</td>\n",
       "      <td>[[-0.1184082, -0.119018555, -0.119628906, -0.1...</td>\n",
       "      <td>True</td>\n",
       "    </tr>\n",
       "    <tr>\n",
       "      <th>1</th>\n",
       "      <td>tr_10001_tr097083</td>\n",
       "      <td>5.632</td>\n",
       "      <td>Stereo</td>\n",
       "      <td>16000</td>\n",
       "      <td>[[-0.12023926, -0.12023926, -0.12023926, -0.12...</td>\n",
       "      <td>True</td>\n",
       "    </tr>\n",
       "    <tr>\n",
       "      <th>2</th>\n",
       "      <td>tr_10002_tr097084</td>\n",
       "      <td>6.144</td>\n",
       "      <td>Stereo</td>\n",
       "      <td>16000</td>\n",
       "      <td>[[-0.13061523, -0.13122559, -0.13183594, -0.13...</td>\n",
       "      <td>True</td>\n",
       "    </tr>\n",
       "    <tr>\n",
       "      <th>3</th>\n",
       "      <td>tr_10003_tr097085</td>\n",
       "      <td>5.760</td>\n",
       "      <td>Stereo</td>\n",
       "      <td>16000</td>\n",
       "      <td>[[-0.12634277, -0.12695312, -0.12695312, -0.12...</td>\n",
       "      <td>True</td>\n",
       "    </tr>\n",
       "    <tr>\n",
       "      <th>4</th>\n",
       "      <td>tr_10004_tr097086</td>\n",
       "      <td>5.376</td>\n",
       "      <td>Stereo</td>\n",
       "      <td>16000</td>\n",
       "      <td>[[-0.119628906, -0.119018555, -0.119628906, -0...</td>\n",
       "      <td>True</td>\n",
       "    </tr>\n",
       "    <tr>\n",
       "      <th>...</th>\n",
       "      <td>...</td>\n",
       "      <td>...</td>\n",
       "      <td>...</td>\n",
       "      <td>...</td>\n",
       "      <td>...</td>\n",
       "      <td>...</td>\n",
       "    </tr>\n",
       "    <tr>\n",
       "      <th>995</th>\n",
       "      <td>tr_1108_tr12009</td>\n",
       "      <td>8.704</td>\n",
       "      <td>Stereo</td>\n",
       "      <td>16000</td>\n",
       "      <td>[[0.005340576, 0.005218506, 0.005126953, 0.004...</td>\n",
       "      <td>True</td>\n",
       "    </tr>\n",
       "    <tr>\n",
       "      <th>996</th>\n",
       "      <td>tr_1109_tr12010</td>\n",
       "      <td>6.272</td>\n",
       "      <td>Stereo</td>\n",
       "      <td>16000</td>\n",
       "      <td>[[-0.008911133, -0.00881958, -0.00894165, -0.0...</td>\n",
       "      <td>True</td>\n",
       "    </tr>\n",
       "    <tr>\n",
       "      <th>997</th>\n",
       "      <td>tr_110_tr02010</td>\n",
       "      <td>4.736</td>\n",
       "      <td>Stereo</td>\n",
       "      <td>16000</td>\n",
       "      <td>[[-0.0072631836, -0.007019043, -0.006652832, -...</td>\n",
       "      <td>True</td>\n",
       "    </tr>\n",
       "    <tr>\n",
       "      <th>998</th>\n",
       "      <td>tr_1110_tr12011</td>\n",
       "      <td>8.576</td>\n",
       "      <td>Stereo</td>\n",
       "      <td>16000</td>\n",
       "      <td>[[-0.005432129, -0.005493164, -0.005645752, -0...</td>\n",
       "      <td>True</td>\n",
       "    </tr>\n",
       "    <tr>\n",
       "      <th>999</th>\n",
       "      <td>tr_1111_tr12012</td>\n",
       "      <td>5.632</td>\n",
       "      <td>Stereo</td>\n",
       "      <td>16000</td>\n",
       "      <td>[[-0.005706787, -0.0057373047, -0.0057678223, ...</td>\n",
       "      <td>True</td>\n",
       "    </tr>\n",
       "  </tbody>\n",
       "</table>\n",
       "<p>1000 rows × 6 columns</p>\n",
       "</div>"
      ],
      "text/plain": [
       "                  Name  Duration Channels  SamplingRate  \\\n",
       "0    tr_10000_tr097082     9.088   Stereo         16000   \n",
       "1    tr_10001_tr097083     5.632   Stereo         16000   \n",
       "2    tr_10002_tr097084     6.144   Stereo         16000   \n",
       "3    tr_10003_tr097085     5.760   Stereo         16000   \n",
       "4    tr_10004_tr097086     5.376   Stereo         16000   \n",
       "..                 ...       ...      ...           ...   \n",
       "995    tr_1108_tr12009     8.704   Stereo         16000   \n",
       "996    tr_1109_tr12010     6.272   Stereo         16000   \n",
       "997     tr_110_tr02010     4.736   Stereo         16000   \n",
       "998    tr_1110_tr12011     8.576   Stereo         16000   \n",
       "999    tr_1111_tr12012     5.632   Stereo         16000   \n",
       "\n",
       "                                        TimeSeriesData  HasTTS  \n",
       "0    [[-0.1184082, -0.119018555, -0.119628906, -0.1...    True  \n",
       "1    [[-0.12023926, -0.12023926, -0.12023926, -0.12...    True  \n",
       "2    [[-0.13061523, -0.13122559, -0.13183594, -0.13...    True  \n",
       "3    [[-0.12634277, -0.12695312, -0.12695312, -0.12...    True  \n",
       "4    [[-0.119628906, -0.119018555, -0.119628906, -0...    True  \n",
       "..                                                 ...     ...  \n",
       "995  [[0.005340576, 0.005218506, 0.005126953, 0.004...    True  \n",
       "996  [[-0.008911133, -0.00881958, -0.00894165, -0.0...    True  \n",
       "997  [[-0.0072631836, -0.007019043, -0.006652832, -...    True  \n",
       "998  [[-0.005432129, -0.005493164, -0.005645752, -0...    True  \n",
       "999  [[-0.005706787, -0.0057373047, -0.0057678223, ...    True  \n",
       "\n",
       "[1000 rows x 6 columns]"
      ]
     },
     "execution_count": 33,
     "metadata": {},
     "output_type": "execute_result"
    }
   ],
   "source": [
    "am_train.convert_stereo_audio()\n",
    "am_train.get_audio_info()"
   ]
  },
  {
   "cell_type": "code",
   "execution_count": 34,
   "metadata": {},
   "outputs": [
    {
     "data": {
      "text/plain": [
       "(2, 145408)"
      ]
     },
     "execution_count": 34,
     "metadata": {},
     "output_type": "execute_result"
    }
   ],
   "source": [
    "# am_train.get_audio_info().head().loc[0,\"TimeSeriesData\"].shape\n",
    "num_rows, y_len = am_train.get_audio_info().loc[0,\"TimeSeriesData\"].shape\n",
    "num_rows,y_len"
   ]
  },
  {
   "cell_type": "markdown",
   "metadata": {},
   "source": [
    "### Change the duration to the same size\n",
    "From Our Data Exploration, we found that most frequent audio files has a duration between 2 to 6. And to reduce the bias, we will pad all the audio to make it equal in length with the maximum."
   ]
  },
  {
   "cell_type": "code",
   "execution_count": 35,
   "metadata": {},
   "outputs": [],
   "source": [
    "am_train.resize_audio()\n"
   ]
  },
  {
   "cell_type": "code",
   "execution_count": 36,
   "metadata": {},
   "outputs": [
    {
     "data": {
      "text/html": [
       "<div>\n",
       "<style scoped>\n",
       "    .dataframe tbody tr th:only-of-type {\n",
       "        vertical-align: middle;\n",
       "    }\n",
       "\n",
       "    .dataframe tbody tr th {\n",
       "        vertical-align: top;\n",
       "    }\n",
       "\n",
       "    .dataframe thead th {\n",
       "        text-align: right;\n",
       "    }\n",
       "</style>\n",
       "<table border=\"1\" class=\"dataframe\">\n",
       "  <thead>\n",
       "    <tr style=\"text-align: right;\">\n",
       "      <th></th>\n",
       "      <th>Name</th>\n",
       "      <th>Duration</th>\n",
       "      <th>Channels</th>\n",
       "      <th>SamplingRate</th>\n",
       "      <th>TimeSeriesData</th>\n",
       "      <th>HasTTS</th>\n",
       "    </tr>\n",
       "  </thead>\n",
       "  <tbody>\n",
       "    <tr>\n",
       "      <th>0</th>\n",
       "      <td>tr_10000_tr097082</td>\n",
       "      <td>18.176</td>\n",
       "      <td>Stereo</td>\n",
       "      <td>16000</td>\n",
       "      <td>[[0.0, 0.0, 0.0, 0.0, 0.0, 0.0, 0.0, 0.0, 0.0,...</td>\n",
       "      <td>True</td>\n",
       "    </tr>\n",
       "    <tr>\n",
       "      <th>1</th>\n",
       "      <td>tr_10001_tr097083</td>\n",
       "      <td>18.176</td>\n",
       "      <td>Stereo</td>\n",
       "      <td>16000</td>\n",
       "      <td>[[0.0, 0.0, 0.0, 0.0, 0.0, 0.0, 0.0, 0.0, 0.0,...</td>\n",
       "      <td>True</td>\n",
       "    </tr>\n",
       "    <tr>\n",
       "      <th>2</th>\n",
       "      <td>tr_10002_tr097084</td>\n",
       "      <td>18.176</td>\n",
       "      <td>Stereo</td>\n",
       "      <td>16000</td>\n",
       "      <td>[[0.0, 0.0, 0.0, 0.0, 0.0, 0.0, 0.0, 0.0, 0.0,...</td>\n",
       "      <td>True</td>\n",
       "    </tr>\n",
       "    <tr>\n",
       "      <th>3</th>\n",
       "      <td>tr_10003_tr097085</td>\n",
       "      <td>18.176</td>\n",
       "      <td>Stereo</td>\n",
       "      <td>16000</td>\n",
       "      <td>[[0.0, 0.0, 0.0, 0.0, 0.0, 0.0, 0.0, 0.0, 0.0,...</td>\n",
       "      <td>True</td>\n",
       "    </tr>\n",
       "    <tr>\n",
       "      <th>4</th>\n",
       "      <td>tr_10004_tr097086</td>\n",
       "      <td>18.176</td>\n",
       "      <td>Stereo</td>\n",
       "      <td>16000</td>\n",
       "      <td>[[0.0, 0.0, 0.0, 0.0, 0.0, 0.0, 0.0, 0.0, 0.0,...</td>\n",
       "      <td>True</td>\n",
       "    </tr>\n",
       "    <tr>\n",
       "      <th>...</th>\n",
       "      <td>...</td>\n",
       "      <td>...</td>\n",
       "      <td>...</td>\n",
       "      <td>...</td>\n",
       "      <td>...</td>\n",
       "      <td>...</td>\n",
       "    </tr>\n",
       "    <tr>\n",
       "      <th>995</th>\n",
       "      <td>tr_1108_tr12009</td>\n",
       "      <td>18.176</td>\n",
       "      <td>Stereo</td>\n",
       "      <td>16000</td>\n",
       "      <td>[[0.0, 0.0, 0.0, 0.0, 0.0, 0.0, 0.0, 0.0, 0.0,...</td>\n",
       "      <td>True</td>\n",
       "    </tr>\n",
       "    <tr>\n",
       "      <th>996</th>\n",
       "      <td>tr_1109_tr12010</td>\n",
       "      <td>18.176</td>\n",
       "      <td>Stereo</td>\n",
       "      <td>16000</td>\n",
       "      <td>[[0.0, 0.0, 0.0, 0.0, 0.0, 0.0, 0.0, 0.0, 0.0,...</td>\n",
       "      <td>True</td>\n",
       "    </tr>\n",
       "    <tr>\n",
       "      <th>997</th>\n",
       "      <td>tr_110_tr02010</td>\n",
       "      <td>18.176</td>\n",
       "      <td>Stereo</td>\n",
       "      <td>16000</td>\n",
       "      <td>[[0.0, 0.0, 0.0, 0.0, 0.0, 0.0, 0.0, 0.0, 0.0,...</td>\n",
       "      <td>True</td>\n",
       "    </tr>\n",
       "    <tr>\n",
       "      <th>998</th>\n",
       "      <td>tr_1110_tr12011</td>\n",
       "      <td>18.176</td>\n",
       "      <td>Stereo</td>\n",
       "      <td>16000</td>\n",
       "      <td>[[0.0, 0.0, 0.0, 0.0, 0.0, 0.0, 0.0, 0.0, 0.0,...</td>\n",
       "      <td>True</td>\n",
       "    </tr>\n",
       "    <tr>\n",
       "      <th>999</th>\n",
       "      <td>tr_1111_tr12012</td>\n",
       "      <td>18.176</td>\n",
       "      <td>Stereo</td>\n",
       "      <td>16000</td>\n",
       "      <td>[[0.0, 0.0, 0.0, 0.0, 0.0, 0.0, 0.0, 0.0, 0.0,...</td>\n",
       "      <td>True</td>\n",
       "    </tr>\n",
       "  </tbody>\n",
       "</table>\n",
       "<p>1000 rows × 6 columns</p>\n",
       "</div>"
      ],
      "text/plain": [
       "                  Name  Duration Channels  SamplingRate  \\\n",
       "0    tr_10000_tr097082    18.176   Stereo         16000   \n",
       "1    tr_10001_tr097083    18.176   Stereo         16000   \n",
       "2    tr_10002_tr097084    18.176   Stereo         16000   \n",
       "3    tr_10003_tr097085    18.176   Stereo         16000   \n",
       "4    tr_10004_tr097086    18.176   Stereo         16000   \n",
       "..                 ...       ...      ...           ...   \n",
       "995    tr_1108_tr12009    18.176   Stereo         16000   \n",
       "996    tr_1109_tr12010    18.176   Stereo         16000   \n",
       "997     tr_110_tr02010    18.176   Stereo         16000   \n",
       "998    tr_1110_tr12011    18.176   Stereo         16000   \n",
       "999    tr_1111_tr12012    18.176   Stereo         16000   \n",
       "\n",
       "                                        TimeSeriesData  HasTTS  \n",
       "0    [[0.0, 0.0, 0.0, 0.0, 0.0, 0.0, 0.0, 0.0, 0.0,...    True  \n",
       "1    [[0.0, 0.0, 0.0, 0.0, 0.0, 0.0, 0.0, 0.0, 0.0,...    True  \n",
       "2    [[0.0, 0.0, 0.0, 0.0, 0.0, 0.0, 0.0, 0.0, 0.0,...    True  \n",
       "3    [[0.0, 0.0, 0.0, 0.0, 0.0, 0.0, 0.0, 0.0, 0.0,...    True  \n",
       "4    [[0.0, 0.0, 0.0, 0.0, 0.0, 0.0, 0.0, 0.0, 0.0,...    True  \n",
       "..                                                 ...     ...  \n",
       "995  [[0.0, 0.0, 0.0, 0.0, 0.0, 0.0, 0.0, 0.0, 0.0,...    True  \n",
       "996  [[0.0, 0.0, 0.0, 0.0, 0.0, 0.0, 0.0, 0.0, 0.0,...    True  \n",
       "997  [[0.0, 0.0, 0.0, 0.0, 0.0, 0.0, 0.0, 0.0, 0.0,...    True  \n",
       "998  [[0.0, 0.0, 0.0, 0.0, 0.0, 0.0, 0.0, 0.0, 0.0,...    True  \n",
       "999  [[0.0, 0.0, 0.0, 0.0, 0.0, 0.0, 0.0, 0.0, 0.0,...    True  \n",
       "\n",
       "[1000 rows x 6 columns]"
      ]
     },
     "execution_count": 36,
     "metadata": {},
     "output_type": "execute_result"
    }
   ],
   "source": [
    "am_train.get_audio_info()"
   ]
  },
  {
   "cell_type": "code",
   "execution_count": 37,
   "metadata": {},
   "outputs": [
    {
     "data": {
      "text/plain": [
       "(2, 290816)"
      ]
     },
     "execution_count": 37,
     "metadata": {},
     "output_type": "execute_result"
    }
   ],
   "source": [
    "am_train.get_audio_info().loc[0,\"TimeSeriesData\"].shape"
   ]
  },
  {
   "cell_type": "markdown",
   "metadata": {},
   "source": [
    "### Standardize Sampling Rate"
   ]
  },
  {
   "cell_type": "code",
   "execution_count": 38,
   "metadata": {},
   "outputs": [
    {
     "data": {
      "text/html": [
       "<div>\n",
       "<style scoped>\n",
       "    .dataframe tbody tr th:only-of-type {\n",
       "        vertical-align: middle;\n",
       "    }\n",
       "\n",
       "    .dataframe tbody tr th {\n",
       "        vertical-align: top;\n",
       "    }\n",
       "\n",
       "    .dataframe thead th {\n",
       "        text-align: right;\n",
       "    }\n",
       "</style>\n",
       "<table border=\"1\" class=\"dataframe\">\n",
       "  <thead>\n",
       "    <tr style=\"text-align: right;\">\n",
       "      <th></th>\n",
       "      <th>count</th>\n",
       "    </tr>\n",
       "    <tr>\n",
       "      <th>SamplingRate</th>\n",
       "      <th></th>\n",
       "    </tr>\n",
       "  </thead>\n",
       "  <tbody>\n",
       "    <tr>\n",
       "      <th>16000</th>\n",
       "      <td>1000</td>\n",
       "    </tr>\n",
       "  </tbody>\n",
       "</table>\n",
       "</div>"
      ],
      "text/plain": [
       "              count\n",
       "SamplingRate       \n",
       "16000          1000"
      ]
     },
     "execution_count": 38,
     "metadata": {},
     "output_type": "execute_result"
    }
   ],
   "source": [
    "# count sampling rate frequencies\n",
    "pd.DataFrame({\"count\": df_train_audio_data.groupby(\"SamplingRate\")[\"SamplingRate\"].count()})\n"
   ]
  },
  {
   "cell_type": "code",
   "execution_count": null,
   "metadata": {},
   "outputs": [],
   "source": [
    "am_train.resample_audio()"
   ]
  },
  {
   "cell_type": "code",
   "execution_count": null,
   "metadata": {},
   "outputs": [],
   "source": [
    "am_train.get_audio_info()"
   ]
  },
  {
   "cell_type": "markdown",
   "metadata": {},
   "source": [
    "### Our SamplingRate is the same all around our data but we have resampled it to 44100. Now we have our processed data, we will save the preprocessed files to a folder in a .wav format. \n",
    "\n",
    " "
   ]
  },
  {
   "cell_type": "code",
   "execution_count": null,
   "metadata": {},
   "outputs": [],
   "source": [
    "am_train.write_wave_files(\"../data/train/wav/\")"
   ]
  }
 ],
 "metadata": {
  "interpreter": {
   "hash": "0e39dd039c79894c5c8eaa0308b24d5ba0115abe9baefb5e95928432ee3a3fd5"
  },
  "kernelspec": {
   "display_name": "Python 3",
   "language": "python",
   "name": "python3"
  },
  "language_info": {
   "codemirror_mode": {
    "name": "ipython",
    "version": 3
   },
   "file_extension": ".py",
   "mimetype": "text/x-python",
   "name": "python",
   "nbconvert_exporter": "python",
   "pygments_lexer": "ipython3",
   "version": "3.8.8"
  }
 },
 "nbformat": 4,
 "nbformat_minor": 2
}
