{
 "cells": [
  {
   "cell_type": "code",
   "execution_count": 7,
   "metadata": {},
   "outputs": [],
   "source": [
    "import sys\n",
    "import os\n",
    "from json import dump, load\n",
    "\n",
    "sys.path.append(os.path.abspath(os.path.join('../scripts')))\n",
    "from logger_creator import CreateLogger\n"
   ]
  },
  {
   "cell_type": "code",
   "execution_count": 8,
   "metadata": {},
   "outputs": [],
   "source": [
    "# Initializing Logger\n",
    "logger = CreateLogger('AlphabetsBuilder', handlers=1)\n",
    "logger = logger.get_default_logger()\n"
   ]
  },
  {
   "cell_type": "code",
   "execution_count": 9,
   "metadata": {},
   "outputs": [],
   "source": [
    "class AlphabetsBuilder():\n",
    "    def __init__(self,file_name: str, alphabets_type: int = 2, train_labels: str = '../data/train_labels.json', test_labels: str = '../data/test_labels.json') -> None:\n",
    "        try:\n",
    "            self.file_name = file_name\n",
    "            self.alphabets_type = alphabets_type\n",
    "            self.train_labels = train_labels\n",
    "            self.test_labels = test_labels\n",
    "            self.alphabets_data = {}\n",
    "            logger.info('Successfully Created Alphabets Builder Class Object')\n",
    "\n",
    "        except Exception as e:\n",
    "            logger.exception(\"Failed to create Alphabets Builder Class Object\")\n",
    "\n",
    "    def get_supported_alphabets(self):\n",
    "        try:\n",
    "            # Method 1\n",
    "            # Conside the entire Amharic Alphabets\n",
    "            if(self.alphabets_type == 1):\n",
    "                # Defining Entire Amharic Alphabets\n",
    "                self.supported_alphabets = \"\"\"\n",
    "                    ሀ ሁ ሂ ሃ ሄ ህ ሆ ለ ሉ ሊ ላ ሌ ል ሎ ሏ ሐ ሑ ሒ ሓ ሔ ሕ ሖ ሗ መ ሙ ሚ ማ ሜ ም ሞ ሟ ሠ ሡ ሢ ሣ ሤ ሥ ሦ ሧ\n",
    "                    ረ ሩ ሪ ራ ሬ ር ሮ ሯ ሰ ሱ ሲ ሳ ሴ ስ ሶ ሷ ሸ ሹ ሺ ሻ ሼ ሽ ሾ ሿ ቀ ቁ ቂ ቃ ቄ ቅ ቆ ቇ ቋ ቐ ቐ ቑ ቒ ቓ ቔ ቕ ቖ\n",
    "                    በ ቡ ቢ ባ ቤ ብ ቦ ቧ ቨ ቩ ቪ ቫ ቬ ቭ ቮ ቯ ተ ቱ ቲ ታ ቴ ት ቶ ቷ ቸ ቹ ቺ ቻ ቼ ች ቾ ቿ ኀ ኁ ኂ ኃ ኄ ኅ ኆ ኇ ኋ \n",
    "                    ነ ኑ ኒ ና ኔ ን ጓ ኖ ኗ ኘ ኙ ኚ ኛ ኜ ኝ ኞ ኟ አ ኡ ኢ ኣ ኤ እ ኦ ኧ ከ ኩ ኪ ካ ኬ ክ ኮ ኯ ኰ ኳ ኲ\n",
    "                    ኸ ኹ ኺ ኻ ኼ ኽ ኾ ወ ዉ ዊ ዋ ዌ ው ዎ ዐ ዑ ዒ ዓ ዔ ዕ ዖ ዘ ዙ ዚ ዛ ዜ ዝ ዞ ዟ ዠ ዡ ዢ ዣ ዤ ዥ ዦ ዧ\n",
    "                    የ ዩ ዪ ያ ዬ ይ ዮ ዯ ደ ዱ ዲ ዳ ዴ ድ ዶ ዷ ጀ ጁ ጂ ጃ ጄ ጅ ጆ ጇ ገ ጉ ጊ ጋ ጌ ግ ጐ ጎ ጏ ጔ ጠ ጡ ጢ ጣ ጤ ጥ ጦ ጧ ጨ ጩ ጪ ጫ ጬ ጭ ጮ ጯ\n",
    "                    ጰ ጱ ጲ ጳ ጴ ጵ ጶ ጷ ጸ ጹ ጺ ጻ ጼ ጽ ጾ ጿ ፀ ፁ ፂ ፃ ፄ ፅ ፆ ፇ ፈ ፉ ፊ ፋ ፌ ፍ ፎ ፏ ፐ ፑ ፒ ፓ ፔ ፕ ፖ ፗ\n",
    "                \"\"\".split()\n",
    "                # Adding space\n",
    "                self.supported_alphabets.insert(0, '<space>')\n",
    "\n",
    "                logger.info('Successfully retrieved alphabets from the entire Amharic Language')\n",
    "\n",
    "            else:\n",
    "                # Method 2\n",
    "                # Conside Characters only from the train and test transcriptions\n",
    "                # Reading Train Labels\n",
    "                with open(self.train_labels, 'r', encoding='UTF-8') as label_file:\n",
    "                    train_labels = load(label_file)\n",
    "                # Reading Test Labels\n",
    "                with open(self.test_labels, 'r', encoding='UTF-8') as label_file:\n",
    "                    test_labels = load(label_file)\n",
    "\n",
    "                # Creating an Alphabet Character Set\n",
    "                char_set = set()\n",
    "\n",
    "                # Reading from each Labels to extract alphabets\n",
    "                # Extracting from Train Labels\n",
    "                for label in train_labels.values():\n",
    "                    characters = [char for char in label]\n",
    "                    char_set.update(characters)\n",
    "\n",
    "                # Extracting from Test Labels\n",
    "                for label in test_labels.values():\n",
    "                    characters = [char for char in label]\n",
    "                    char_set.update(characters)\n",
    "\n",
    "                # Creating Alphabets List\n",
    "                self.supported_alphabets = list(char_set)\n",
    "                # Removing Space and Inserting as <space>\n",
    "                self.supported_alphabets.remove(' ')\n",
    "                self.supported_alphabets.insert(0, '<space>')\n",
    "\n",
    "                logger.info('Successfully retrieved alphabets from train and test transcriptions')\n",
    "\n",
    "        except Exception as e:\n",
    "            logger.exception('Failed To retrieve supported alphabets')\n",
    "\n",
    "    def construct_conversion_dicts(self):\n",
    "        try:\n",
    "            # Constructing Alphabet to num conversion dict\n",
    "            alphabet_to_num = {}\n",
    "            index = 0\n",
    "            # Iterating through alphabets and appending to the conversion dictionary\n",
    "            for alphabet in self.supported_alphabets:\n",
    "                alphabet_to_num[alphabet] = index\n",
    "                index += 1\n",
    "\n",
    "            # Constructing Alphabet to num conversion dict\n",
    "            # Iterating through alphabets to num dictionary to create the reverse\n",
    "            num_to_alphabet = {v: k for k, v in alphabet_to_num.items()}\n",
    "\n",
    "            self.alphabets_data['char_to_num'] = alphabet_to_num\n",
    "            self.alphabets_data['num_to_char'] = num_to_alphabet\n",
    "            self.alphabets_data['alphabet_size'] = len(self.supported_alphabets)\n",
    "\n",
    "            logger.info('Successfully constructed conversion dictionaries')\n",
    "\n",
    "        except Exception as e:\n",
    "            logger.exception('Failed to construct conversion dictionaries')\n",
    "\n",
    "    def save_alphabets_dict(self):\n",
    "        try:\n",
    "            with open(self.file_name, \"w\", encoding='UTF-8') as export_file:\n",
    "                dump(self.alphabets_data, export_file, indent=4, sort_keys=True, ensure_ascii=False)\n",
    "\n",
    "            logger.info(f'Successfuly Saved Generated Alphabets Dictionary in: {self.file_name}')\n",
    "\n",
    "        except Exception as e:\n",
    "            logger.exception('Failed to Save Generated Alphabets Dictionary')\n",
    "\n",
    "    def generate_and_save_alphabets(self):\n",
    "        self.get_supported_alphabets()\n",
    "        self.construct_conversion_dicts()\n",
    "        self.save_alphabets_dict()\n"
   ]
  },
  {
   "cell_type": "code",
   "execution_count": 10,
   "metadata": {},
   "outputs": [
    {
     "name": "stderr",
     "output_type": "stream",
     "text": [
      "AlphabetsBuilder:INFO->Successfully Created Alphabets Builder Class Object\n",
      "AlphabetsBuilder:INFO->Successfully Created Alphabets Builder Class Object\n"
     ]
    }
   ],
   "source": [
    "alphabet_builder = AlphabetsBuilder('../data/alphabets_data.json')\n"
   ]
  },
  {
   "cell_type": "code",
   "execution_count": 11,
   "metadata": {},
   "outputs": [
    {
     "name": "stderr",
     "output_type": "stream",
     "text": [
      "AlphabetsBuilder:INFO->Successfully retrieved alphabets from train and test transcriptions\n",
      "AlphabetsBuilder:INFO->Successfully retrieved alphabets from train and test transcriptions\n",
      "AlphabetsBuilder:INFO->Successfully constructed conversion dictionaries\n",
      "AlphabetsBuilder:INFO->Successfully constructed conversion dictionaries\n",
      "AlphabetsBuilder:INFO->Successfuly Saved Generated Alphabets Dictionary in: ../data/alphabets_data.json\n",
      "AlphabetsBuilder:INFO->Successfuly Saved Generated Alphabets Dictionary in: ../data/alphabets_data.json\n"
     ]
    }
   ],
   "source": [
    "alphabet_builder.generate_and_save_alphabets()\n"
   ]
  },
  {
   "cell_type": "code",
   "execution_count": null,
   "metadata": {},
   "outputs": [],
   "source": []
  }
 ],
 "metadata": {
  "interpreter": {
   "hash": "2db524e06e9f5f4ffedc911c917cb75e12dbc923643829bf417064a77eb14d37"
  },
  "kernelspec": {
   "display_name": "Python 3",
   "language": "python",
   "name": "python3"
  },
  "language_info": {
   "codemirror_mode": {
    "name": "ipython",
    "version": 3
   },
   "file_extension": ".py",
   "mimetype": "text/x-python",
   "name": "python",
   "nbconvert_exporter": "python",
   "pygments_lexer": "ipython3",
   "version": "3.8.8"
  }
 },
 "nbformat": 4,
 "nbformat_minor": 2
}
